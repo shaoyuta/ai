{
 "cells": [
  {
   "cell_type": "code",
   "execution_count": 8,
   "metadata": {},
   "outputs": [
    {
     "name": "stderr",
     "output_type": "stream",
     "text": [
      "  % Total    % Received % Xferd  Average Speed   Time    Time     Time  Current\n",
      "                                 Dload  Upload   Total   Spent    Left  Speed\n"
     ]
    },
    {
     "name": "stderr",
     "output_type": "stream",
     "text": [
      "100  1335    0  1221  100   114    556     51  0:00:02  0:00:02 --:--:--   607\n"
     ]
    },
    {
     "name": "stdout",
     "output_type": "stream",
     "text": [
      "{\n",
      "  \"id\": \"chatcmpl-ABiOcQp2e0VPgwzlMcB0qUTMYXCkH\",\n",
      "  \"object\": \"chat.completion\",\n",
      "  \"created\": 1727355630,\n",
      "  \"model\": \"gpt-4o-2024-05-13\",\n",
      "  \"choices\": [\n",
      "    {\n",
      "      \"index\": 0,\n",
      "      \"message\": {\n",
      "        \"role\": \"assistant\",\n",
      "        \"content\": \"\\\"OLLAMA\\\"可能与多个不同领域相关联，因此背景信息会有所帮助。以下是几个可能的解释：\\n\\n1. **美洲驼（Alpaca）**：OLLAMA 可能指的是一种动物，尤其是在西班牙语里，\\\"llama\\\"可以指美洲驼（Alpaca）。\\n\\n2. **地名或文化名字**：在某些语言或文化中，\\\"Ollama\\\"可能是一个地名或者某个文化相关的名字。\\n\\n3. **组织或品牌名称**：有时候OLLAMA可能代表的是某个组织、品牌或项目的名字，特别是在某些特定背景下。\\n\\n如果你有更多关于你提到的 \\\"OLLAMA\\\" 的背景信息或具体上下文，我可以提供更精确的解释。\",\n",
      "        \"refusal\": null\n",
      "      },\n",
      "      \"logprobs\": null,\n",
      "      \"finish_reason\": \"stop\"\n",
      "    }\n",
      "  ],\n",
      "  \"usage\": {\n",
      "    \"prompt_tokens\": 11,\n",
      "    \"completion_tokens\": 171,\n",
      "    \"total_tokens\": 182,\n",
      "    \"completion_tokens_details\": {\n",
      "      \"reasoning_tokens\": 0\n",
      "    }\n",
      "  },\n",
      "  \"system_fingerprint\": \"fp_f82f5b050c\"\n",
      "}\n"
     ]
    }
   ],
   "source": [
    "%%bash\n",
    "\n",
    "curl https://api.openai.com/v1/chat/completions \\\n",
    "  -H \"Content-Type: application/json\" \\\n",
    "  -H \"Authorization: Bearer $OPENAI_API_KEY\" \\\n",
    "  -d '{ \n",
    "  \"model\": \"gpt-4o\",\n",
    "  \"messages\": [\n",
    "    {\n",
    "      \"role\": \"user\",\n",
    "      \"content\": \"什么是ollama\"\n",
    "    }\n",
    "  ]\n",
    "}'"
   ]
  },
  {
   "cell_type": "code",
   "execution_count": 1,
   "metadata": {},
   "outputs": [],
   "source": [
    "from langchain_ollama.chat_models import ChatOllama\n",
    "from langchain_ollama.llms import OllamaLLM\n",
    "from langchain_openai import ChatOpenAI\n",
    "from langchain_core.output_parsers import StrOutputParser\n",
    "from langchain_ollama.llms import OllamaLLM\n",
    "from langchain_core.prompts import ChatPromptTemplate\n",
    "from langchain_core.messages import HumanMessage, SystemMessage\n",
    "import os\n",
    "\n",
    "parser = StrOutputParser()\n",
    "\n",
    "llm_ollama = OllamaLLM(model=\"qwen2:7b\")\n",
    "llm_openai = ChatOpenAI()\n",
    "llm_zhipu = ChatOpenAI(\n",
    "    base_url=\"https://open.bigmodel.cn/api/paas/v4/\",\n",
    "    model=\"glm-4\",\n",
    "    api_key=os.environ['ZHIPU_API_KEY']\n",
    ")\n"
   ]
  },
  {
   "cell_type": "code",
   "execution_count": 2,
   "metadata": {},
   "outputs": [],
   "source": [
    "message=\"什么是ollama\""
   ]
  },
  {
   "cell_type": "code",
   "execution_count": 3,
   "metadata": {},
   "outputs": [
    {
     "name": "stdout",
     "output_type": "stream",
     "text": [
      "===ollama===\n",
      "在英文语境中，“Ollama”似乎不是一个标准或普遍认可的术语。该词可能是一个拼写错误、方言用法或者特定情境下的专用名词。如果它指的是某种语言、技术、文化中的术语，请提供更多的上下文信息。\n",
      "\n",
      "如果你提到的是“Ollie”，那么这在滑板界里非常常见，指的是滑板跳跃技巧的一种。滑手会在保持平衡的情况下以一种旋转的方式抬起一只脚离开板面，然后落地时另一只脚继续支撑身体，以此来实现一个简单的空中翻转。\n",
      "\n",
      "如果“Ollama”是某个特定领域的专业术语或者是一个拼写错误，请给出更多的背景信息或上下文以便提供更准确的解释。\n",
      "\n"
     ]
    }
   ],
   "source": [
    "\n",
    "print(\"===ollama===\\n\" + (llm_ollama | parser).invoke(message)+\"\\n\")\n"
   ]
  },
  {
   "cell_type": "code",
   "execution_count": 5,
   "metadata": {},
   "outputs": [
    {
     "name": "stdout",
     "output_type": "stream",
     "text": [
      "===openai===\n",
      "\"Ollama\"这个词可能是一个拼写错误，正确的可能是\"llama\"。Llama是一种产自南美洲的动物，是骆驼的近亲。它们通常生活在高海拔的地区，是被用作工作动物和产毛的动物。由于它们可爱的外表和友好的性格，llama也成为了宠物和旅游景点的一部分。\n",
      "\n"
     ]
    }
   ],
   "source": [
    "print(\"===openai===\\n\" + (llm_openai | parser).invoke(message)+\"\\n\")\n"
   ]
  },
  {
   "cell_type": "code",
   "execution_count": 6,
   "metadata": {},
   "outputs": [
    {
     "name": "stdout",
     "output_type": "stream",
     "text": [
      "===zhipu===\n",
      "\"Ollama\" 这个词在中文语境中并不常见，也不是一个标准的汉语词汇。它可能是一个拼写错误、一个专有名词或者来自某种特定语境下的词汇。\n",
      "\n",
      "如果这个词是在讨论人工智能、技术或者某个特定领域内的术语，它可能是指某个具体的项目、产品或概念的名字。但是，由于我在2023之前的数据中没有见过这个词，无法提供确切的定义。\n",
      "\n",
      "如果你能提供更多上下文或详细信息，我会尽力帮助你理解 \"ollama\" 的含义。\n",
      "\n"
     ]
    }
   ],
   "source": [
    "print(\"===zhipu===\\n\" + (llm_zhipu | parser).invoke(message)+\"\\n\")"
   ]
  }
 ],
 "metadata": {
  "kernelspec": {
   "display_name": "py312-langchain",
   "language": "python",
   "name": "python3"
  },
  "language_info": {
   "codemirror_mode": {
    "name": "ipython",
    "version": 3
   },
   "file_extension": ".py",
   "mimetype": "text/x-python",
   "name": "python",
   "nbconvert_exporter": "python",
   "pygments_lexer": "ipython3",
   "version": "3.12.0"
  }
 },
 "nbformat": 4,
 "nbformat_minor": 2
}
