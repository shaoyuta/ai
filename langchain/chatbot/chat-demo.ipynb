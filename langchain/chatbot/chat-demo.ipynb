{
 "cells": [
  {
   "cell_type": "code",
   "execution_count": 7,
   "metadata": {},
   "outputs": [
    {
     "name": "stderr",
     "output_type": "stream",
     "text": [
      "  % Total    % Received % Xferd  Average Speed   Time    Time     Time  Current\n",
      "                                 Dload  Upload   Total   Spent    Left  Speed\n",
      "100   558  100   443  100   115   3119    809 --:--:-- --:--:-- --:--:--  3929\n"
     ]
    },
    {
     "name": "stdout",
     "output_type": "stream",
     "text": [
      "{\n",
      "    \"error\": {\n",
      "        \"message\": \"We could not parse the JSON body of your request. (HINT: This likely means you aren't using your HTTP library correctly. The OpenAI API expects a JSON payload, but what was sent was not valid JSON. If you have trouble figuring out how to fix this, please contact us through our help center at help.openai.com.)\",\n",
      "        \"type\": \"invalid_request_error\",\n",
      "        \"param\": null,\n",
      "        \"code\": null\n",
      "    }\n",
      "}\n"
     ]
    }
   ],
   "source": [
    "%%bash\n",
    "\n",
    "curl https://api.openai.com/v1/chat/completions \\\n",
    "  -H \"Content-Type: application/json\" \\\n",
    "  -H \"Authorization: Bearer $OPENAI_API_KEY\" \\\n",
    "  -d '{ \n",
    "  \"model\": \"gpt-4o\",\n",
    "  \"messages\": [\n",
    "    {\n",
    "      \"role\": \"user\",\n",
    "      \"content\": \"什么是ollama\"\n",
    "    }\n",
    "  ]\n",
    "}'"
   ]
  },
  {
   "cell_type": "code",
   "execution_count": 1,
   "metadata": {},
   "outputs": [],
   "source": [
    "from langchain_ollama.chat_models import ChatOllama\n",
    "from langchain_ollama.llms import OllamaLLM\n",
    "from langchain_openai import ChatOpenAI\n",
    "from langchain_core.output_parsers import StrOutputParser\n",
    "from langchain_core.prompts import ChatPromptTemplate\n",
    "from langchain_core.messages import HumanMessage, SystemMessage\n",
    "import os\n",
    "\n",
    "parser = StrOutputParser()\n",
    "\n",
    "llm_ollama = OllamaLLM(model=\"qwen2:7b\")\n",
    "llm_openai = ChatOpenAI()\n",
    "llm_zhipu = ChatOpenAI(\n",
    "    base_url=\"https://open.bigmodel.cn/api/paas/v4/\",\n",
    "    model=\"glm-4\",\n",
    "    api_key=os.environ['ZHIPU_API_KEY']\n",
    ")\n"
   ]
  },
  {
   "cell_type": "code",
   "execution_count": 2,
   "metadata": {},
   "outputs": [],
   "source": [
    "message=\"什么是ollama\""
   ]
  },
  {
   "cell_type": "code",
   "execution_count": 3,
   "metadata": {},
   "outputs": [
    {
     "name": "stdout",
     "output_type": "stream",
     "text": [
      "===ollama===\n",
      "在英文语境中，“Ollama”似乎不是一个标准或普遍认可的术语。该词可能是一个拼写错误、方言用法或者特定情境下的专用名词。如果它指的是某种语言、技术、文化中的术语，请提供更多的上下文信息。\n",
      "\n",
      "如果你提到的是“Ollie”，那么这在滑板界里非常常见，指的是滑板跳跃技巧的一种。滑手会在保持平衡的情况下以一种旋转的方式抬起一只脚离开板面，然后落地时另一只脚继续支撑身体，以此来实现一个简单的空中翻转。\n",
      "\n",
      "如果“Ollama”是某个特定领域的专业术语或者是一个拼写错误，请给出更多的背景信息或上下文以便提供更准确的解释。\n",
      "\n"
     ]
    }
   ],
   "source": [
    "\n",
    "print(\"===ollama===\\n\" + (llm_ollama | parser).invoke(message)+\"\\n\")\n"
   ]
  },
  {
   "cell_type": "code",
   "execution_count": 5,
   "metadata": {},
   "outputs": [
    {
     "name": "stdout",
     "output_type": "stream",
     "text": [
      "===openai===\n",
      "\"Ollama\"这个词可能是一个拼写错误，正确的可能是\"llama\"。Llama是一种产自南美洲的动物，是骆驼的近亲。它们通常生活在高海拔的地区，是被用作工作动物和产毛的动物。由于它们可爱的外表和友好的性格，llama也成为了宠物和旅游景点的一部分。\n",
      "\n"
     ]
    }
   ],
   "source": [
    "print(\"===openai===\\n\" + (llm_openai | parser).invoke(message)+\"\\n\")\n"
   ]
  },
  {
   "cell_type": "code",
   "execution_count": 6,
   "metadata": {},
   "outputs": [
    {
     "name": "stdout",
     "output_type": "stream",
     "text": [
      "===zhipu===\n",
      "\"Ollama\" 这个词在中文语境中并不常见，也不是一个标准的汉语词汇。它可能是一个拼写错误、一个专有名词或者来自某种特定语境下的词汇。\n",
      "\n",
      "如果这个词是在讨论人工智能、技术或者某个特定领域内的术语，它可能是指某个具体的项目、产品或概念的名字。但是，由于我在2023之前的数据中没有见过这个词，无法提供确切的定义。\n",
      "\n",
      "如果你能提供更多上下文或详细信息，我会尽力帮助你理解 \"ollama\" 的含义。\n",
      "\n"
     ]
    }
   ],
   "source": [
    "print(\"===zhipu===\\n\" + (llm_zhipu | parser).invoke(message)+\"\\n\")"
   ]
  }
 ],
 "metadata": {
  "kernelspec": {
   "display_name": "py312-langchain",
   "language": "python",
   "name": "python3"
  },
  "language_info": {
   "codemirror_mode": {
    "name": "ipython",
    "version": 3
   },
   "file_extension": ".py",
   "mimetype": "text/x-python",
   "name": "python",
   "nbconvert_exporter": "python",
   "pygments_lexer": "ipython3",
   "version": "3.12.0"
  }
 },
 "nbformat": 4,
 "nbformat_minor": 2
}
