{
 "cells": [
  {
   "cell_type": "markdown",
   "metadata": {},
   "source": [
    "# Demo ollama\n",
    "## 最简单的ollama"
   ]
  },
  {
   "cell_type": "code",
   "execution_count": 7,
   "metadata": {},
   "outputs": [],
   "source": [
    "from langchain_community.chat_models import ChatOllama"
   ]
  },
  {
   "cell_type": "code",
   "execution_count": 8,
   "metadata": {},
   "outputs": [],
   "source": [
    "model_local = ChatOllama(model=\"qwen2:7b\")"
   ]
  },
  {
   "cell_type": "code",
   "execution_count": 9,
   "metadata": {},
   "outputs": [
    {
     "data": {
      "text/plain": [
       "AIMessage(content='OLLAMA 是一个开源的机器学习助手，它的全名是 Open-Source Lightweight Machine Learning Agent。OLLAMA的目标是提供一种轻量级且易于使用的工具来帮助人们理解、操作和构建基于AI与机器学习的应用。\\n\\n它具备以下几个特点：\\n\\n1. **可定制化**：用户可以根据自己的需求自定义模型，使用多种编程语言（如Python）进行交互式训练和测试。\\n\\n2. **友好界面**：提供了一个简单的图形界面或者命令行接口，使得即使是初学者也能快速上手操作复杂的机器学习任务。\\n\\n3. **知识图谱支持**：通过集成知识图谱API，OLLAMA可以用于问答系统、推荐引擎以及自然语言处理应用中。\\n\\n4. **可扩展性**：架构设计灵活，易于添加新功能或与其他工具和服务集成。\\n\\n5. **开源**：遵循开放源代码许可协议，任何人都可以在GitHub上访问其源码并根据需要进行修改和分发。\\n\\n通过OLLAMA，用户能够探索数据、构建模型、训练算法，并在实际应用中测试这些模型的性能。它旨在为广泛的开发者、研究者和技术爱好者提供一个实用且高效的平台来探索机器学习的应用与潜力。', additional_kwargs={}, response_metadata={'model': 'qwen2:7b', 'created_at': '2024-09-14T01:58:17.759001256Z', 'message': {'role': 'assistant', 'content': ''}, 'done_reason': 'stop', 'done': True, 'total_duration': 43831948745, 'load_duration': 25054725, 'prompt_eval_count': 22, 'prompt_eval_duration': 238451000, 'eval_count': 251, 'eval_duration': 43427311000}, id='run-e16dde01-3656-4f82-a401-175f25d4742d-0')"
      ]
     },
     "execution_count": 9,
     "metadata": {},
     "output_type": "execute_result"
    }
   ],
   "source": [
    "model_local.invoke(\"什么是ollama\")"
   ]
  },
  {
   "cell_type": "markdown",
   "metadata": {},
   "source": [
    "## 加入简单的提示词"
   ]
  },
  {
   "cell_type": "code",
   "execution_count": 18,
   "metadata": {},
   "outputs": [],
   "source": [
    "from langchain_core.prompts import ChatPromptTemplate\n",
    "# Prompt\n",
    "template = \"\"\"Tell me about: {question}\n",
    "\"\"\"\n",
    "prompt = ChatPromptTemplate.from_template(template)"
   ]
  },
  {
   "cell_type": "code",
   "execution_count": 19,
   "metadata": {},
   "outputs": [],
   "source": [
    "from langchain.chains import LLMChain\n",
    "chain = LLMChain(llm=model_local, \n",
    "                 prompt=prompt,\n",
    "                 verbose=True)"
   ]
  },
  {
   "cell_type": "code",
   "execution_count": 20,
   "metadata": {},
   "outputs": [
    {
     "name": "stderr",
     "output_type": "stream",
     "text": [
      "Error in StdOutCallbackHandler.on_chain_start callback: AttributeError(\"'NoneType' object has no attribute 'get'\")\n"
     ]
    },
    {
     "name": "stdout",
     "output_type": "stream",
     "text": [
      "Prompt after formatting:\n",
      "\u001b[32;1m\u001b[1;3mHuman: Tell me about: the ollama\n",
      "\u001b[0m\n",
      "\n",
      "\u001b[1m> Finished chain.\u001b[0m\n",
      "It seems there might be some confusion with your term \"ollama.\" If you meant to inquire about an \" llama,\" I'd be happy to provide information on that.\n",
      "\n",
      "A llama (Llama llama) is a large, camelid herbivore native to South America. It belongs to the family Camelidae and is closely related to the alpaca but more distantly to camels.\n",
      "\n",
      "**Physical Characteristics:**\n",
      "- Llamas stand about 5 feet tall at the shoulder and can weigh between 300 to 400 pounds for males (stud/llanero) and approximately 260 to 350 pounds for females.\n",
      "- They have thick, reddish-brown fur on their back and sides that becomes paler under the belly and on the legs. Some may have darker stripes running down their flanks or across their rump. \n",
      "- Llamas possess strong legs with hooves similar to those of a camel, which help them traverse through rugged terrain.\n",
      "- They can live up to 20 years in captivity.\n",
      "\n",
      "**Behavior:**\n",
      "- Like other camels and alpacas, llamas have a complex social structure with dominance hierarchies both within the same sex and mixed groups. \n",
      "- Llamas are known for their ability to recognize hundreds of individuals by scent alone. Their communication includes snorts, whistles, and screams.\n",
      "- They tend to graze on grasses and other vegetation during daylight hours.\n",
      "\n",
      "**Uses:**\n",
      "- **As Livestock:** Llamas are kept as working animals in many regions where they can carry loads across harsh terrain or high elevations that horses might find challenging. A well-trained llama can carry up to 100 pounds on its back.\n",
      "- **Housing Fibers:** Their wool-like hair, which is actually a type of fiber, can be harvested and spun into yarn or fabric for textile use. \n",
      "- **Pet:** While not as common due to their size and wild nature, some people do keep llamas as pets.\n",
      "\n",
      "**Conservation Status:**\n",
      "Llamas are classified as Least Concern by the International Union for Conservation of Nature (IUCN). However, there is concern about the impacts of diseases spreading from domesticated llamas into feral populations.\n",
      "\n",
      "If you meant something else or perhaps mistyped \"ollama,\" could you please provide more context or clarify? I'm here to help with any further questions!\n"
     ]
    }
   ],
   "source": [
    "print(chain.run({\"question\": \"the ollama\"}))"
   ]
  }
 ],
 "metadata": {
  "kernelspec": {
   "display_name": "py312-langchain",
   "language": "python",
   "name": "python3"
  },
  "language_info": {
   "codemirror_mode": {
    "name": "ipython",
    "version": 3
   },
   "file_extension": ".py",
   "mimetype": "text/x-python",
   "name": "python",
   "nbconvert_exporter": "python",
   "pygments_lexer": "ipython3",
   "version": "3.12.0"
  }
 },
 "nbformat": 4,
 "nbformat_minor": 2
}
