{
 "cells": [
  {
   "cell_type": "code",
   "execution_count": null,
   "metadata": {},
   "outputs": [],
   "source": [
    "# zhipu assistant demo\n",
    "\n",
    "from langchain.agents import AgentExecutor, create_tool_calling_agent, tool\n",
    "from langchain_core.prompts import ChatPromptTemplate\n",
    "from langchain_community.chat_models.zhipuai import ChatZhipuAI\n",
    "\n",
    "# 定义你的提示模板\n",
    "prompt = ChatPromptTemplate.from_messages([\n",
    "    (\"system\", \"You are a helpful assistant\"),\n",
    "    (\"placeholder\", \"{chat_history}\"),\n",
    "    (\"human\", \"{input}\"),\n",
    "    (\"placeholder\", \"{agent_scratchpad}\"),\n",
    "])\n",
    "\n",
    "# 假设 ChatZhipuAI 是你的模型，并且它有一个 bind_tools 方法\n",
    "llm = ChatZhipuAI(model=\"glm-4\", temperature=0.1)\n",
    "llm_with_tools = llm.bind_tools([your_custom_tool])\n",
    "\n",
    "# 创建调用代理\n",
    "agent = create_tool_calling_agent(llm_with_tools, [your_custom_tool], prompt)\n",
    "agent_executor = AgentExecutor(agent=agent, tools=[your_custom_tool], verbose=True)\n",
    "\n",
    "# 执行代理\n",
    "response = agent_executor.invoke(...)"
   ]
  }
 ],
 "metadata": {
  "language_info": {
   "name": "python"
  }
 },
 "nbformat": 4,
 "nbformat_minor": 2
}
